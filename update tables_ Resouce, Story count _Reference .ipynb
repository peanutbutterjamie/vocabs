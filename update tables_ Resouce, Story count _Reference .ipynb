{
 "cells": [
  {
   "cell_type": "markdown",
   "id": "d83be395",
   "metadata": {},
   "source": [
    "#### 모듈 / 라이브러리 불러오기 "
   ]
  },
  {
   "cell_type": "code",
   "execution_count": 3,
   "id": "e80fb556",
   "metadata": {},
   "outputs": [],
   "source": [
    "#!pip install nltk\n",
    "#!pip install spacy\n",
    "#!pip install stanza\n",
    "import stanza\n",
    "import pandas as pd\n",
    "import os\n",
    "import re\n",
    "import pickle\n",
    "import sys \n",
    "import spacy \n",
    "import numpy as np\n",
    "from IPython.display import clear_output \n",
    "from tqdm import tqdm \n",
    "from nltk import sent_tokenize\n",
    "nlp = stanza.Pipeline(lang='en', processors='tokenize, pos, lemma')\n",
    "clear_output()"
   ]
  },
  {
   "cell_type": "code",
   "execution_count": 5,
   "id": "7e4bdea6",
   "metadata": {},
   "outputs": [],
   "source": [
    "# 새로운 resouce에 대하여 각 테이블 업데이트 \n",
    "from Update_New_Tables import update_resource_stories, update_sentence_ids\n",
    "\n",
    "# upos:lemma 입력 시 어떤 story/sentence 에서 등장 했는지 바로 보여 줌\n",
    "from CountWords import create_merged_df, get_sentence_story_textbook\n",
    "\n",
    "# Reference 단어를 제외한 upos:lemma table을 생성 & sr 및 st count 계산 \n",
    "from ReferenceExclusion import get_sr_st_count, reference_words_exclusion \n",
    "\n",
    "# upos:lemma 입력 시 등장 sentence 를 테이블로 보여 줌 \n",
    "# 전체 upos:lemma에 대하여 rs code / sr code 를 한 칼럼에 comma 로 구분한 테이블을 생성\n",
    "from LemmaCount import get_ul_sentence, get_resource_code, get_story_code\n",
    "\n",
    "clear_output()"
   ]
  },
  {
   "cell_type": "markdown",
   "id": "dfeb1738",
   "metadata": {},
   "source": [
    "#### 기존 파일 확인"
   ]
  },
  {
   "cell_type": "code",
   "execution_count": 6,
   "id": "125e79ed",
   "metadata": {},
   "outputs": [],
   "source": [
    "with open('./data/resource_table_new.pickle', 'rb') as f:\n",
    "    textbook_df = pickle.load(f)\n",
    "with open('./data/story_table_text_new.pickle', 'rb') as f:\n",
    "    story_df = pickle.load(f)\n",
    "with open('./data/sentence_list_new.pickle', 'rb') as f:\n",
    "    sentence_df = pickle.load(f)   \n",
    "    \n",
    "with open('./data/STID_XTID_new.pickle', 'rb') as f :\n",
    "    STID_XTID=pickle.load(f)        \n",
    "with open('./data/STID_ULID_new.pickle', 'rb') as f :\n",
    "    STID_ULID=pickle.load(f) \n",
    "\n",
    "    \n",
    "    \n",
    "with open('./data/XTID.pickle', 'rb') as f :\n",
    "    token_xpos=pickle.load(f)\n",
    "with open('./data/ULID.pickle', 'rb') as f :\n",
    "    lemma_upos=pickle.load(f)\n",
    "\n",
    "    \n",
    "    \n",
    "with open('./data/entry_table_1208.pickle', 'rb') as f :\n",
    "    entry_df=pickle.load(f)\n",
    "with open('./data/entry_table_1211.pickle', 'rb') as f :\n",
    "    entry_df_new=pickle.load(f)\n",
    "    \n",
    "#어휘 통합 파일 + entry table 통합 -> ET ID 부여 및 reference 포함 여부를 칼럼으로 갖고 있는 테이블 \n",
    "with open('./data/vocab_reference_integrated.pickle', 'rb') as f :\n",
    "    reference_intg=pickle.load(f)"
   ]
  },
  {
   "cell_type": "code",
   "execution_count": 18,
   "id": "7bce0172",
   "metadata": {},
   "outputs": [
    {
     "data": {
      "text/html": [
       "<div>\n",
       "<style scoped>\n",
       "    .dataframe tbody tr th:only-of-type {\n",
       "        vertical-align: middle;\n",
       "    }\n",
       "\n",
       "    .dataframe tbody tr th {\n",
       "        vertical-align: top;\n",
       "    }\n",
       "\n",
       "    .dataframe thead th {\n",
       "        text-align: right;\n",
       "    }\n",
       "</style>\n",
       "<table border=\"1\" class=\"dataframe\">\n",
       "  <thead>\n",
       "    <tr style=\"text-align: right;\">\n",
       "      <th></th>\n",
       "      <th>ENTRY</th>\n",
       "      <th>ET ID</th>\n",
       "      <th>FW</th>\n",
       "      <th>Poly8K</th>\n",
       "      <th>교육부3K</th>\n",
       "      <th>CEFR10K</th>\n",
       "      <th>LEXILE6K</th>\n",
       "      <th>Longman3K</th>\n",
       "      <th>VOA1.5K</th>\n",
       "      <th>WW 3K</th>\n",
       "      <th>VW 3K</th>\n",
       "    </tr>\n",
       "  </thead>\n",
       "  <tbody>\n",
       "    <tr>\n",
       "      <th>0</th>\n",
       "      <td>rainwater</td>\n",
       "      <td>ET00060</td>\n",
       "      <td>X</td>\n",
       "      <td>X</td>\n",
       "      <td>X</td>\n",
       "      <td>X</td>\n",
       "      <td>3rd</td>\n",
       "      <td>X</td>\n",
       "      <td>X</td>\n",
       "      <td>X</td>\n",
       "      <td>X</td>\n",
       "    </tr>\n",
       "    <tr>\n",
       "      <th>1</th>\n",
       "      <td>purify</td>\n",
       "      <td>ET00061</td>\n",
       "      <td>X</td>\n",
       "      <td>X</td>\n",
       "      <td>X</td>\n",
       "      <td>X</td>\n",
       "      <td>X</td>\n",
       "      <td>X</td>\n",
       "      <td>X</td>\n",
       "      <td>X</td>\n",
       "      <td>Gr.3</td>\n",
       "    </tr>\n",
       "    <tr>\n",
       "      <th>2</th>\n",
       "      <td>agricultural</td>\n",
       "      <td>ET00080</td>\n",
       "      <td>X</td>\n",
       "      <td>X</td>\n",
       "      <td>X</td>\n",
       "      <td>X</td>\n",
       "      <td>4th</td>\n",
       "      <td>X</td>\n",
       "      <td>X</td>\n",
       "      <td>X</td>\n",
       "      <td>X</td>\n",
       "    </tr>\n",
       "    <tr>\n",
       "      <th>3</th>\n",
       "      <td>drying</td>\n",
       "      <td>ET00091</td>\n",
       "      <td>X</td>\n",
       "      <td>X</td>\n",
       "      <td>X</td>\n",
       "      <td>X</td>\n",
       "      <td>X</td>\n",
       "      <td>X</td>\n",
       "      <td>X</td>\n",
       "      <td>X</td>\n",
       "      <td>X</td>\n",
       "    </tr>\n",
       "    <tr>\n",
       "      <th>4</th>\n",
       "      <td>greenhouse</td>\n",
       "      <td>ET00129</td>\n",
       "      <td>X</td>\n",
       "      <td>X</td>\n",
       "      <td>X</td>\n",
       "      <td>X</td>\n",
       "      <td>4th</td>\n",
       "      <td>X</td>\n",
       "      <td>X</td>\n",
       "      <td>X</td>\n",
       "      <td>X</td>\n",
       "    </tr>\n",
       "    <tr>\n",
       "      <th>...</th>\n",
       "      <td>...</td>\n",
       "      <td>...</td>\n",
       "      <td>...</td>\n",
       "      <td>...</td>\n",
       "      <td>...</td>\n",
       "      <td>...</td>\n",
       "      <td>...</td>\n",
       "      <td>...</td>\n",
       "      <td>...</td>\n",
       "      <td>...</td>\n",
       "      <td>...</td>\n",
       "    </tr>\n",
       "    <tr>\n",
       "      <th>12269</th>\n",
       "      <td>zoomed</td>\n",
       "      <td>ET19884</td>\n",
       "      <td>X</td>\n",
       "      <td>X</td>\n",
       "      <td>X</td>\n",
       "      <td>X</td>\n",
       "      <td>X</td>\n",
       "      <td>X</td>\n",
       "      <td>X</td>\n",
       "      <td>K</td>\n",
       "      <td>X</td>\n",
       "    </tr>\n",
       "    <tr>\n",
       "      <th>12270</th>\n",
       "      <td>zooplankton</td>\n",
       "      <td>ET19885</td>\n",
       "      <td>X</td>\n",
       "      <td>X</td>\n",
       "      <td>X</td>\n",
       "      <td>X</td>\n",
       "      <td>9th to 12th</td>\n",
       "      <td>X</td>\n",
       "      <td>X</td>\n",
       "      <td>X</td>\n",
       "      <td>X</td>\n",
       "    </tr>\n",
       "    <tr>\n",
       "      <th>12271</th>\n",
       "      <td>zucchini</td>\n",
       "      <td>ET19886</td>\n",
       "      <td>X</td>\n",
       "      <td>X</td>\n",
       "      <td>X</td>\n",
       "      <td>B2</td>\n",
       "      <td>X</td>\n",
       "      <td>X</td>\n",
       "      <td>X</td>\n",
       "      <td>X</td>\n",
       "      <td>X</td>\n",
       "    </tr>\n",
       "    <tr>\n",
       "      <th>12272</th>\n",
       "      <td>zulu</td>\n",
       "      <td>ET19887</td>\n",
       "      <td>X</td>\n",
       "      <td>X</td>\n",
       "      <td>X</td>\n",
       "      <td>X</td>\n",
       "      <td>9th to 12th</td>\n",
       "      <td>X</td>\n",
       "      <td>X</td>\n",
       "      <td>X</td>\n",
       "      <td>X</td>\n",
       "    </tr>\n",
       "    <tr>\n",
       "      <th>12273</th>\n",
       "      <td>zygote</td>\n",
       "      <td>ET19888</td>\n",
       "      <td>X</td>\n",
       "      <td>X</td>\n",
       "      <td>X</td>\n",
       "      <td>X</td>\n",
       "      <td>6th to 8th</td>\n",
       "      <td>X</td>\n",
       "      <td>X</td>\n",
       "      <td>X</td>\n",
       "      <td>X</td>\n",
       "    </tr>\n",
       "  </tbody>\n",
       "</table>\n",
       "<p>12274 rows × 11 columns</p>\n",
       "</div>"
      ],
      "text/plain": [
       "              ENTRY    ET ID FW Poly8K 교육부3K CEFR10K     LEXILE6K Longman3K  \\\n",
       "0         rainwater  ET00060  X      X     X       X          3rd         X   \n",
       "1            purify  ET00061  X      X     X       X            X         X   \n",
       "2      agricultural  ET00080  X      X     X       X          4th         X   \n",
       "3            drying  ET00091  X      X     X       X            X         X   \n",
       "4        greenhouse  ET00129  X      X     X       X          4th         X   \n",
       "...             ...      ... ..    ...   ...     ...          ...       ...   \n",
       "12269        zoomed  ET19884  X      X     X       X            X         X   \n",
       "12270   zooplankton  ET19885  X      X     X       X  9th to 12th         X   \n",
       "12271      zucchini  ET19886  X      X     X      B2            X         X   \n",
       "12272          zulu  ET19887  X      X     X       X  9th to 12th         X   \n",
       "12273        zygote  ET19888  X      X     X       X   6th to 8th         X   \n",
       "\n",
       "      VOA1.5K WW 3K VW 3K  \n",
       "0           X     X     X  \n",
       "1           X     X  Gr.3  \n",
       "2           X     X     X  \n",
       "3           X     X     X  \n",
       "4           X     X     X  \n",
       "...       ...   ...   ...  \n",
       "12269       X     K     X  \n",
       "12270       X     X     X  \n",
       "12271       X     X     X  \n",
       "12272       X     X     X  \n",
       "12273       X     X     X  \n",
       "\n",
       "[12274 rows x 11 columns]"
      ]
     },
     "execution_count": 18,
     "metadata": {},
     "output_type": "execute_result"
    }
   ],
   "source": [
    "new_ref=reference_intg[(reference_intg['Poly8K']==\"X\")&\n",
    "               (reference_intg['FW']==\"X\")&\n",
    "               (reference_intg['교육부3K']==\"X\")&\n",
    "               (reference_intg['Longman3K']==\"X\")&\n",
    "               (reference_intg['VOA1.5K']==\"X\")].reset_index(drop=True)\n",
    "new_ref"
   ]
  },
  {
   "cell_type": "code",
   "execution_count": 20,
   "id": "d7eedd2b",
   "metadata": {},
   "outputs": [
    {
     "data": {
      "text/html": [
       "<div>\n",
       "<style scoped>\n",
       "    .dataframe tbody tr th:only-of-type {\n",
       "        vertical-align: middle;\n",
       "    }\n",
       "\n",
       "    .dataframe tbody tr th {\n",
       "        vertical-align: top;\n",
       "    }\n",
       "\n",
       "    .dataframe thead th {\n",
       "        text-align: right;\n",
       "    }\n",
       "</style>\n",
       "<table border=\"1\" class=\"dataframe\">\n",
       "  <thead>\n",
       "    <tr style=\"text-align: right;\">\n",
       "      <th></th>\n",
       "      <th>ENTRY</th>\n",
       "      <th>ET ID</th>\n",
       "      <th>FW</th>\n",
       "      <th>Poly8K</th>\n",
       "      <th>교육부3K</th>\n",
       "      <th>CEFR10K</th>\n",
       "      <th>LEXILE6K</th>\n",
       "      <th>Longman3K</th>\n",
       "      <th>VOA1.5K</th>\n",
       "      <th>WW 3K</th>\n",
       "      <th>VW 3K</th>\n",
       "    </tr>\n",
       "  </thead>\n",
       "  <tbody>\n",
       "    <tr>\n",
       "      <th>68</th>\n",
       "      <td>businesspeople</td>\n",
       "      <td>ET00880</td>\n",
       "      <td>X</td>\n",
       "      <td>X</td>\n",
       "      <td>X</td>\n",
       "      <td>X</td>\n",
       "      <td>6th to 8th</td>\n",
       "      <td>X</td>\n",
       "      <td>X</td>\n",
       "      <td>X</td>\n",
       "      <td>X</td>\n",
       "    </tr>\n",
       "    <tr>\n",
       "      <th>96</th>\n",
       "      <td>porcupine</td>\n",
       "      <td>ET01105</td>\n",
       "      <td>X</td>\n",
       "      <td>X</td>\n",
       "      <td>X</td>\n",
       "      <td>X</td>\n",
       "      <td>6th to 8th</td>\n",
       "      <td>X</td>\n",
       "      <td>X</td>\n",
       "      <td>X</td>\n",
       "      <td>X</td>\n",
       "    </tr>\n",
       "    <tr>\n",
       "      <th>107</th>\n",
       "      <td>seafloor</td>\n",
       "      <td>ET01170</td>\n",
       "      <td>X</td>\n",
       "      <td>X</td>\n",
       "      <td>X</td>\n",
       "      <td>X</td>\n",
       "      <td>6th to 8th</td>\n",
       "      <td>X</td>\n",
       "      <td>X</td>\n",
       "      <td>X</td>\n",
       "      <td>X</td>\n",
       "    </tr>\n",
       "    <tr>\n",
       "      <th>120</th>\n",
       "      <td>wartime</td>\n",
       "      <td>ET01233</td>\n",
       "      <td>X</td>\n",
       "      <td>X</td>\n",
       "      <td>X</td>\n",
       "      <td>X</td>\n",
       "      <td>6th to 8th</td>\n",
       "      <td>X</td>\n",
       "      <td>X</td>\n",
       "      <td>X</td>\n",
       "      <td>X</td>\n",
       "    </tr>\n",
       "    <tr>\n",
       "      <th>129</th>\n",
       "      <td>gully</td>\n",
       "      <td>ET01304</td>\n",
       "      <td>X</td>\n",
       "      <td>X</td>\n",
       "      <td>X</td>\n",
       "      <td>X</td>\n",
       "      <td>6th to 8th</td>\n",
       "      <td>X</td>\n",
       "      <td>X</td>\n",
       "      <td>X</td>\n",
       "      <td>X</td>\n",
       "    </tr>\n",
       "    <tr>\n",
       "      <th>...</th>\n",
       "      <td>...</td>\n",
       "      <td>...</td>\n",
       "      <td>...</td>\n",
       "      <td>...</td>\n",
       "      <td>...</td>\n",
       "      <td>...</td>\n",
       "      <td>...</td>\n",
       "      <td>...</td>\n",
       "      <td>...</td>\n",
       "      <td>...</td>\n",
       "      <td>...</td>\n",
       "    </tr>\n",
       "    <tr>\n",
       "      <th>12239</th>\n",
       "      <td>workday</td>\n",
       "      <td>ET19833</td>\n",
       "      <td>X</td>\n",
       "      <td>X</td>\n",
       "      <td>X</td>\n",
       "      <td>X</td>\n",
       "      <td>6th to 8th</td>\n",
       "      <td>X</td>\n",
       "      <td>X</td>\n",
       "      <td>X</td>\n",
       "      <td>X</td>\n",
       "    </tr>\n",
       "    <tr>\n",
       "      <th>12249</th>\n",
       "      <td>writhe</td>\n",
       "      <td>ET19849</td>\n",
       "      <td>X</td>\n",
       "      <td>X</td>\n",
       "      <td>X</td>\n",
       "      <td>X</td>\n",
       "      <td>6th to 8th</td>\n",
       "      <td>X</td>\n",
       "      <td>X</td>\n",
       "      <td>X</td>\n",
       "      <td>Gr.6</td>\n",
       "    </tr>\n",
       "    <tr>\n",
       "      <th>12264</th>\n",
       "      <td>zealot</td>\n",
       "      <td>ET19876</td>\n",
       "      <td>X</td>\n",
       "      <td>X</td>\n",
       "      <td>X</td>\n",
       "      <td>X</td>\n",
       "      <td>6th to 8th</td>\n",
       "      <td>X</td>\n",
       "      <td>X</td>\n",
       "      <td>X</td>\n",
       "      <td>Gr.13</td>\n",
       "    </tr>\n",
       "    <tr>\n",
       "      <th>12267</th>\n",
       "      <td>ziggurat</td>\n",
       "      <td>ET19880</td>\n",
       "      <td>X</td>\n",
       "      <td>X</td>\n",
       "      <td>X</td>\n",
       "      <td>X</td>\n",
       "      <td>6th to 8th</td>\n",
       "      <td>X</td>\n",
       "      <td>X</td>\n",
       "      <td>X</td>\n",
       "      <td>X</td>\n",
       "    </tr>\n",
       "    <tr>\n",
       "      <th>12273</th>\n",
       "      <td>zygote</td>\n",
       "      <td>ET19888</td>\n",
       "      <td>X</td>\n",
       "      <td>X</td>\n",
       "      <td>X</td>\n",
       "      <td>X</td>\n",
       "      <td>6th to 8th</td>\n",
       "      <td>X</td>\n",
       "      <td>X</td>\n",
       "      <td>X</td>\n",
       "      <td>X</td>\n",
       "    </tr>\n",
       "  </tbody>\n",
       "</table>\n",
       "<p>979 rows × 11 columns</p>\n",
       "</div>"
      ],
      "text/plain": [
       "                ENTRY    ET ID FW Poly8K 교육부3K CEFR10K    LEXILE6K Longman3K  \\\n",
       "68     businesspeople  ET00880  X      X     X       X  6th to 8th         X   \n",
       "96          porcupine  ET01105  X      X     X       X  6th to 8th         X   \n",
       "107          seafloor  ET01170  X      X     X       X  6th to 8th         X   \n",
       "120           wartime  ET01233  X      X     X       X  6th to 8th         X   \n",
       "129             gully  ET01304  X      X     X       X  6th to 8th         X   \n",
       "...               ...      ... ..    ...   ...     ...         ...       ...   \n",
       "12239         workday  ET19833  X      X     X       X  6th to 8th         X   \n",
       "12249          writhe  ET19849  X      X     X       X  6th to 8th         X   \n",
       "12264          zealot  ET19876  X      X     X       X  6th to 8th         X   \n",
       "12267        ziggurat  ET19880  X      X     X       X  6th to 8th         X   \n",
       "12273          zygote  ET19888  X      X     X       X  6th to 8th         X   \n",
       "\n",
       "      VOA1.5K WW 3K  VW 3K  \n",
       "68          X     X      X  \n",
       "96          X     X      X  \n",
       "107         X     X      X  \n",
       "120         X     X      X  \n",
       "129         X     X      X  \n",
       "...       ...   ...    ...  \n",
       "12239       X     X      X  \n",
       "12249       X     X   Gr.6  \n",
       "12264       X     X  Gr.13  \n",
       "12267       X     X      X  \n",
       "12273       X     X      X  \n",
       "\n",
       "[979 rows x 11 columns]"
      ]
     },
     "execution_count": 20,
     "metadata": {},
     "output_type": "execute_result"
    }
   ],
   "source": [
    "new_ref[new_ref['LEXILE6K']=='6th to 8th']"
   ]
  },
  {
   "cell_type": "code",
   "execution_count": null,
   "id": "469f019b",
   "metadata": {},
   "outputs": [],
   "source": []
  },
  {
   "cell_type": "code",
   "execution_count": 72,
   "id": "fc4689c7",
   "metadata": {
    "scrolled": false
   },
   "outputs": [
    {
     "data": {
      "text/html": [
       "<div>\n",
       "<style scoped>\n",
       "    .dataframe tbody tr th:only-of-type {\n",
       "        vertical-align: middle;\n",
       "    }\n",
       "\n",
       "    .dataframe tbody tr th {\n",
       "        vertical-align: top;\n",
       "    }\n",
       "\n",
       "    .dataframe thead th {\n",
       "        text-align: right;\n",
       "    }\n",
       "</style>\n",
       "<table border=\"1\" class=\"dataframe\">\n",
       "  <thead>\n",
       "    <tr style=\"text-align: right;\">\n",
       "      <th></th>\n",
       "      <th>UL ID</th>\n",
       "      <th>UPOS:Lemma</th>\n",
       "    </tr>\n",
       "  </thead>\n",
       "  <tbody>\n",
       "    <tr>\n",
       "      <th>0</th>\n",
       "      <td>UL00001</td>\n",
       "      <td>NOUN:engineer</td>\n",
       "    </tr>\n",
       "    <tr>\n",
       "      <th>1</th>\n",
       "      <td>UL00002</td>\n",
       "      <td>VERB:like</td>\n",
       "    </tr>\n",
       "    <tr>\n",
       "      <th>2</th>\n",
       "      <td>UL00003</td>\n",
       "      <td>VERB:solve</td>\n",
       "    </tr>\n",
       "    <tr>\n",
       "      <th>3</th>\n",
       "      <td>UL00004</td>\n",
       "      <td>NOUN:problem</td>\n",
       "    </tr>\n",
       "    <tr>\n",
       "      <th>4</th>\n",
       "      <td>UL00005</td>\n",
       "      <td>VERB:fix</td>\n",
       "    </tr>\n",
       "    <tr>\n",
       "      <th>...</th>\n",
       "      <td>...</td>\n",
       "      <td>...</td>\n",
       "    </tr>\n",
       "    <tr>\n",
       "      <th>15076</th>\n",
       "      <td>UL15085</td>\n",
       "      <td>NOUN:pih</td>\n",
       "    </tr>\n",
       "    <tr>\n",
       "      <th>15077</th>\n",
       "      <td>UL15086</td>\n",
       "      <td>NOUN:toon</td>\n",
       "    </tr>\n",
       "    <tr>\n",
       "      <th>15078</th>\n",
       "      <td>UL15087</td>\n",
       "      <td>NOUN:urn</td>\n",
       "    </tr>\n",
       "    <tr>\n",
       "      <th>15079</th>\n",
       "      <td>UL15088</td>\n",
       "      <td>NOUN:482°c</td>\n",
       "    </tr>\n",
       "    <tr>\n",
       "      <th>15080</th>\n",
       "      <td>UL15089</td>\n",
       "      <td>NOUN:900°f</td>\n",
       "    </tr>\n",
       "  </tbody>\n",
       "</table>\n",
       "<p>15081 rows × 2 columns</p>\n",
       "</div>"
      ],
      "text/plain": [
       "         UL ID     UPOS:Lemma\n",
       "0      UL00001  NOUN:engineer\n",
       "1      UL00002      VERB:like\n",
       "2      UL00003     VERB:solve\n",
       "3      UL00004   NOUN:problem\n",
       "4      UL00005       VERB:fix\n",
       "...        ...            ...\n",
       "15076  UL15085       NOUN:pih\n",
       "15077  UL15086      NOUN:toon\n",
       "15078  UL15087       NOUN:urn\n",
       "15079  UL15088     NOUN:482°c\n",
       "15080  UL15089     NOUN:900°f\n",
       "\n",
       "[15081 rows x 2 columns]"
      ]
     },
     "execution_count": 72,
     "metadata": {},
     "output_type": "execute_result"
    }
   ],
   "source": [
    "lemma_upos\n",
    "#[STID_ULID['ST ID']=='ST55833']"
   ]
  },
  {
   "cell_type": "markdown",
   "id": "f3ae694f",
   "metadata": {},
   "source": [
    "# ------------------------------------------------------"
   ]
  },
  {
   "cell_type": "code",
   "execution_count": 68,
   "id": "d06920fa",
   "metadata": {},
   "outputs": [
    {
     "data": {
      "text/plain": [
       "['ENG-PTF-4.2-4-Waverider',\n",
       " 'ENG-PTF-5.1-5-Aviator',\n",
       " 'ENG-PTF-5.2-5-Rocketeer',\n",
       " 'ENG-WDS-1.1-1-Rise and Shine',\n",
       " 'ENG-WDS-1.2-1-Fly High',\n",
       " 'ENG-WDS-2.1-2-All Aboard',\n",
       " 'ENG-WDS-2.2-2-Set Sail',\n",
       " 'ENG-WDS-3.1-3-Into the Horizon',\n",
       " 'NFS-ERK-1-1-Eureka',\n",
       " 'NFS-ERK-2-2-Eureka',\n",
       " 'NFS-ERK-3-3-Eureka']"
      ]
     },
     "execution_count": 68,
     "metadata": {},
     "output_type": "execute_result"
    }
   ],
   "source": [
    "elelist=os.listdir('/Users/jamielee/Library/CloudStorage/Dropbox/AIEI - 코퍼스/코퍼스 리소스/리소스 TXT/TXT_ELE')\n",
    "elelist.remove('.DS_Store')\n",
    "elelist = sorted(elelist)\n",
    "new_ele_list=elelist[11:]\n",
    "new_ele_list"
   ]
  },
  {
   "cell_type": "code",
   "execution_count": 70,
   "id": "b00f65f1",
   "metadata": {},
   "outputs": [
    {
     "name": "stderr",
     "output_type": "stream",
     "text": [
      "  0%|                                                    | 0/11 [00:00<?, ?it/s]\n",
      "100%|█████████████████████████████████████████████| 1/1 [00:00<00:00, 27.82it/s]\u001b[A\n"
     ]
    },
    {
     "name": "stdout",
     "output_type": "stream",
     "text": [
      "------------ENG-PTF-4.2-4-Waverider------------\n",
      "resource table updated :RS083\n",
      "ENG-PTF-4.2-4-Waverider : story table updated  - PTF4.2\n",
      "updated stories :12\n",
      "------------Waverider------------\n",
      "sentence table updated :953 sentences\n",
      "-newly added token:xpos IDs -> 253\n"
     ]
    },
    {
     "name": "stderr",
     "output_type": "stream",
     "text": [
      "\r",
      "  9%|████                                        | 1/11 [00:48<08:09, 48.90s/it]"
     ]
    },
    {
     "name": "stdout",
     "output_type": "stream",
     "text": [
      "-newly added upos:lemma IDs -> 95\n",
      "--XT ID UL ID Updated\n"
     ]
    },
    {
     "name": "stderr",
     "output_type": "stream",
     "text": [
      "\n",
      "100%|█████████████████████████████████████████████| 1/1 [00:00<00:00, 46.92it/s]\u001b[A"
     ]
    },
    {
     "name": "stdout",
     "output_type": "stream",
     "text": [
      "------------ENG-PTF-5.1-5-Aviator------------\n",
      "resource table updated :RS084\n",
      "ENG-PTF-5.1-5-Aviator : story table updated  - PTF5.1\n",
      "updated stories :12\n",
      "------------Aviator------------\n",
      "sentence table updated :1276 sentences\n"
     ]
    },
    {
     "name": "stderr",
     "output_type": "stream",
     "text": [
      "\n"
     ]
    },
    {
     "name": "stdout",
     "output_type": "stream",
     "text": [
      "-newly added token:xpos IDs -> 278\n"
     ]
    },
    {
     "name": "stderr",
     "output_type": "stream",
     "text": [
      "\r",
      " 18%|████████                                    | 2/11 [02:03<09:33, 63.74s/it]"
     ]
    },
    {
     "name": "stdout",
     "output_type": "stream",
     "text": [
      "-newly added upos:lemma IDs -> 112\n",
      "--XT ID UL ID Updated\n"
     ]
    },
    {
     "name": "stderr",
     "output_type": "stream",
     "text": [
      "\n",
      "100%|█████████████████████████████████████████████| 1/1 [00:00<00:00, 34.61it/s]\u001b[A"
     ]
    },
    {
     "name": "stdout",
     "output_type": "stream",
     "text": [
      "------------ENG-PTF-5.2-5-Rocketeer------------\n",
      "resource table updated :RS085\n",
      "ENG-PTF-5.2-5-Rocketeer : story table updated  - PTF5.2\n",
      "updated stories :12\n"
     ]
    },
    {
     "name": "stderr",
     "output_type": "stream",
     "text": [
      "\n"
     ]
    },
    {
     "name": "stdout",
     "output_type": "stream",
     "text": [
      "------------Rocketeer------------\n",
      "sentence table updated :1171 sentences\n",
      "-newly added token:xpos IDs -> 255\n"
     ]
    },
    {
     "name": "stderr",
     "output_type": "stream",
     "text": [
      "\r",
      " 27%|████████████                                | 3/11 [03:10<08:42, 65.37s/it]"
     ]
    },
    {
     "name": "stdout",
     "output_type": "stream",
     "text": [
      "-newly added upos:lemma IDs -> 113\n",
      "--XT ID UL ID Updated\n"
     ]
    },
    {
     "name": "stderr",
     "output_type": "stream",
     "text": [
      "\n",
      "100%|█████████████████████████████████████████████| 1/1 [00:00<00:00, 40.55it/s]\u001b[A"
     ]
    },
    {
     "name": "stdout",
     "output_type": "stream",
     "text": [
      "------------ENG-WDS-1.1-1-Rise and Shine------------\n",
      "resource table updated :RS086\n",
      "ENG-WDS-1.1-1-Rise and Shine : story table updated  - WDS1.1\n",
      "updated stories :24\n"
     ]
    },
    {
     "name": "stderr",
     "output_type": "stream",
     "text": [
      "\n"
     ]
    },
    {
     "name": "stdout",
     "output_type": "stream",
     "text": [
      "------------Rise and Shine------------\n",
      "sentence table updated :682 sentences\n",
      "-newly added token:xpos IDs -> 65\n"
     ]
    },
    {
     "name": "stderr",
     "output_type": "stream",
     "text": [
      "\r",
      " 36%|████████████████                            | 4/11 [03:35<05:45, 49.35s/it]"
     ]
    },
    {
     "name": "stdout",
     "output_type": "stream",
     "text": [
      "-newly added upos:lemma IDs -> 25\n",
      "--XT ID UL ID Updated\n"
     ]
    },
    {
     "name": "stderr",
     "output_type": "stream",
     "text": [
      "\n",
      "100%|█████████████████████████████████████████████| 1/1 [00:00<00:00, 39.24it/s]\u001b[A"
     ]
    },
    {
     "name": "stdout",
     "output_type": "stream",
     "text": [
      "------------ENG-WDS-1.2-1-Fly High------------\n",
      "resource table updated :RS087\n",
      "ENG-WDS-1.2-1-Fly High : story table updated  - WDS1.2\n",
      "updated stories :24\n"
     ]
    },
    {
     "name": "stderr",
     "output_type": "stream",
     "text": [
      "\n"
     ]
    },
    {
     "name": "stdout",
     "output_type": "stream",
     "text": [
      "------------Fly High------------\n",
      "sentence table updated :1034 sentences\n",
      "-newly added token:xpos IDs -> 135\n"
     ]
    },
    {
     "name": "stderr",
     "output_type": "stream",
     "text": [
      "\r",
      " 45%|████████████████████                        | 5/11 [04:16<04:39, 46.54s/it]"
     ]
    },
    {
     "name": "stdout",
     "output_type": "stream",
     "text": [
      "-newly added upos:lemma IDs -> 39\n",
      "--XT ID UL ID Updated\n"
     ]
    },
    {
     "name": "stderr",
     "output_type": "stream",
     "text": [
      "\n",
      "100%|█████████████████████████████████████████████| 1/1 [00:00<00:00, 41.22it/s]\u001b[A"
     ]
    },
    {
     "name": "stdout",
     "output_type": "stream",
     "text": [
      "------------ENG-WDS-2.1-2-All Aboard------------\n",
      "resource table updated :RS088\n",
      "ENG-WDS-2.1-2-All Aboard : story table updated  - WDS2.1\n",
      "updated stories :24\n"
     ]
    },
    {
     "name": "stderr",
     "output_type": "stream",
     "text": [
      "\n"
     ]
    },
    {
     "name": "stdout",
     "output_type": "stream",
     "text": [
      "------------All Aboard------------\n",
      "sentence table updated :1455 sentences\n",
      "-newly added token:xpos IDs -> 130\n"
     ]
    },
    {
     "name": "stderr",
     "output_type": "stream",
     "text": [
      "\r",
      " 55%|████████████████████████                    | 6/11 [05:16<04:15, 51.10s/it]"
     ]
    },
    {
     "name": "stdout",
     "output_type": "stream",
     "text": [
      "-newly added upos:lemma IDs -> 43\n",
      "--XT ID UL ID Updated\n"
     ]
    },
    {
     "name": "stderr",
     "output_type": "stream",
     "text": [
      "\n",
      "100%|█████████████████████████████████████████████| 1/1 [00:00<00:00, 42.12it/s]\u001b[A"
     ]
    },
    {
     "name": "stdout",
     "output_type": "stream",
     "text": [
      "------------ENG-WDS-2.2-2-Set Sail------------\n",
      "resource table updated :RS089\n",
      "ENG-WDS-2.2-2-Set Sail : story table updated  - WDS2.2\n",
      "updated stories :24\n"
     ]
    },
    {
     "name": "stderr",
     "output_type": "stream",
     "text": [
      "\n"
     ]
    },
    {
     "name": "stdout",
     "output_type": "stream",
     "text": [
      "------------Set Sail------------\n",
      "sentence table updated :1485 sentences\n",
      "-newly added token:xpos IDs -> 191\n"
     ]
    },
    {
     "name": "stderr",
     "output_type": "stream",
     "text": [
      "\r",
      " 64%|████████████████████████████                | 7/11 [06:23<03:44, 56.10s/it]"
     ]
    },
    {
     "name": "stdout",
     "output_type": "stream",
     "text": [
      "-newly added upos:lemma IDs -> 65\n",
      "--XT ID UL ID Updated\n"
     ]
    },
    {
     "name": "stderr",
     "output_type": "stream",
     "text": [
      "\n",
      "100%|█████████████████████████████████████████████| 1/1 [00:00<00:00, 40.00it/s]\u001b[A"
     ]
    },
    {
     "name": "stdout",
     "output_type": "stream",
     "text": [
      "------------ENG-WDS-3.1-3-Into the Horizon------------\n",
      "resource table updated :RS090\n",
      "ENG-WDS-3.1-3-Into the Horizon : story table updated  - WDS3.1\n",
      "updated stories :24\n"
     ]
    },
    {
     "name": "stderr",
     "output_type": "stream",
     "text": [
      "\n"
     ]
    },
    {
     "name": "stdout",
     "output_type": "stream",
     "text": [
      "------------Into the Horizon------------\n",
      "sentence table updated :1783 sentences\n",
      "-newly added token:xpos IDs -> 254\n"
     ]
    },
    {
     "name": "stderr",
     "output_type": "stream",
     "text": [
      "\r",
      " 73%|████████████████████████████████            | 8/11 [07:49<03:17, 65.79s/it]"
     ]
    },
    {
     "name": "stdout",
     "output_type": "stream",
     "text": [
      "-newly added upos:lemma IDs -> 94\n",
      "--XT ID UL ID Updated\n"
     ]
    },
    {
     "name": "stderr",
     "output_type": "stream",
     "text": [
      "\n",
      "100%|█████████████████████████████████████████████| 1/1 [00:00<00:00, 37.45it/s]\u001b[A"
     ]
    },
    {
     "name": "stdout",
     "output_type": "stream",
     "text": [
      "------------NFS-ERK-1-1-Eureka------------\n",
      "resource table updated :RS091\n",
      "NFS-ERK-1-1-Eureka : story table updated  - ERK1\n",
      "updated stories :26\n"
     ]
    },
    {
     "name": "stderr",
     "output_type": "stream",
     "text": [
      "\n"
     ]
    },
    {
     "name": "stdout",
     "output_type": "stream",
     "text": [
      "------------Eureka------------\n",
      "sentence table updated :814 sentences\n",
      "-newly added token:xpos IDs -> 92\n"
     ]
    },
    {
     "name": "stderr",
     "output_type": "stream",
     "text": [
      "\r",
      " 82%|████████████████████████████████████        | 9/11 [08:20<01:49, 54.80s/it]"
     ]
    },
    {
     "name": "stdout",
     "output_type": "stream",
     "text": [
      "-newly added upos:lemma IDs -> 46\n",
      "--XT ID UL ID Updated\n"
     ]
    },
    {
     "name": "stderr",
     "output_type": "stream",
     "text": [
      "\n",
      "  0%|                                                     | 0/1 [00:00<?, ?it/s]\u001b[A"
     ]
    },
    {
     "name": "stdout",
     "output_type": "stream",
     "text": [
      "------------NFS-ERK-2-2-Eureka------------\n",
      "resource table updated :RS092\n",
      "NFS-ERK-2-2-Eureka : story table updated  - ERK2\n",
      "updated stories :27\n",
      "*********RS ID Duplicated : 0\n",
      "*********Title Duplicated : 1\n"
     ]
    },
    {
     "name": "stderr",
     "output_type": "stream",
     "text": [
      "\n"
     ]
    },
    {
     "name": "stdout",
     "output_type": "stream",
     "text": [
      "------------Eureka------------\n",
      "sentence table updated :967 sentences\n",
      "-newly added token:xpos IDs -> 83\n"
     ]
    },
    {
     "name": "stderr",
     "output_type": "stream",
     "text": [
      "\r",
      " 91%|███████████████████████████████████████    | 10/11 [09:01<00:50, 50.58s/it]"
     ]
    },
    {
     "name": "stdout",
     "output_type": "stream",
     "text": [
      "-newly added upos:lemma IDs -> 44\n",
      "--XT ID UL ID Updated\n"
     ]
    },
    {
     "name": "stderr",
     "output_type": "stream",
     "text": [
      "\n",
      "  0%|                                                     | 0/1 [00:00<?, ?it/s]\u001b[A"
     ]
    },
    {
     "name": "stdout",
     "output_type": "stream",
     "text": [
      "------------NFS-ERK-3-3-Eureka------------\n",
      "resource table updated :RS093\n",
      "NFS-ERK-3-3-Eureka : story table updated  - ERK3\n",
      "updated stories :46\n",
      "*********RS ID Duplicated : 0\n",
      "*********Title Duplicated : 2\n"
     ]
    },
    {
     "name": "stderr",
     "output_type": "stream",
     "text": [
      "\n"
     ]
    },
    {
     "name": "stdout",
     "output_type": "stream",
     "text": [
      "------------Eureka------------\n",
      "sentence table updated :2630 sentences\n",
      "-newly added token:xpos IDs -> 626\n"
     ]
    },
    {
     "name": "stderr",
     "output_type": "stream",
     "text": [
      "100%|███████████████████████████████████████████| 11/11 [11:23<00:00, 62.15s/it]"
     ]
    },
    {
     "name": "stdout",
     "output_type": "stream",
     "text": [
      "-newly added upos:lemma IDs -> 272\n",
      "--XT ID UL ID Updated\n"
     ]
    },
    {
     "name": "stderr",
     "output_type": "stream",
     "text": [
      "\n"
     ]
    }
   ],
   "source": [
    "for bookname in tqdm(new_ele_list):\n",
    "    update_resource_stories(['ELE', bookname])\n",
    "    update_sentence_ids(['ELE', bookname])"
   ]
  },
  {
   "cell_type": "markdown",
   "id": "9f02b99e",
   "metadata": {},
   "source": [
    "# 1) Resource table & Story table 업데이트\n",
    "#### 리스트 형식으로 ['과정', '폴더이름'] 파라미터로 입력\n",
    "- Resource 테이블에 업데이트 : RS ID 알려 줌\n",
    "    * 이미 있는 경우 000 is already in the reference table : RSxx \n",
    "- story 테이블에 업데이트 : 몇 개의 스토리 인지 알려 줌\n",
    "    * 이미 있는 경우 story list already in the table : 폴더이름, 해당 인덱스 print \n",
    "    "
   ]
  },
  {
   "cell_type": "code",
   "execution_count": 52,
   "id": "f023b6b8",
   "metadata": {},
   "outputs": [
    {
     "name": "stderr",
     "output_type": "stream",
     "text": [
      "100%|█████████████████████████████████████████████| 1/1 [00:00<00:00, 21.51it/s]"
     ]
    },
    {
     "name": "stdout",
     "output_type": "stream",
     "text": [
      "------------ENG-PTF-4.1-4-Mariner------------\n",
      "resource table updated :RS082\n",
      "ENG-PTF-4.1-4-Mariner : story table updated  - PTF4.1\n",
      "updated stories :12\n"
     ]
    },
    {
     "name": "stderr",
     "output_type": "stream",
     "text": [
      "\n"
     ]
    }
   ],
   "source": [
    "update_resource_stories(['ELE','ENG-PTF-4.1-4-Mariner'])"
   ]
  },
  {
   "cell_type": "code",
   "execution_count": 53,
   "id": "19a18afb",
   "metadata": {},
   "outputs": [
    {
     "data": {
      "text/html": [
       "<div>\n",
       "<style scoped>\n",
       "    .dataframe tbody tr th:only-of-type {\n",
       "        vertical-align: middle;\n",
       "    }\n",
       "\n",
       "    .dataframe tbody tr th {\n",
       "        vertical-align: top;\n",
       "    }\n",
       "\n",
       "    .dataframe thead th {\n",
       "        text-align: right;\n",
       "    }\n",
       "</style>\n",
       "<table border=\"1\" class=\"dataframe\">\n",
       "  <thead>\n",
       "    <tr style=\"text-align: right;\">\n",
       "      <th></th>\n",
       "      <th>RS ID</th>\n",
       "      <th>SR ID</th>\n",
       "      <th>SR Code</th>\n",
       "      <th>Group</th>\n",
       "      <th>SR Order</th>\n",
       "      <th>Unit</th>\n",
       "      <th>SR Title</th>\n",
       "      <th>Text</th>\n",
       "    </tr>\n",
       "  </thead>\n",
       "  <tbody>\n",
       "    <tr>\n",
       "      <th>0</th>\n",
       "      <td>RS001</td>\n",
       "      <td>SR0001</td>\n",
       "      <td>CST04-U1-S01</td>\n",
       "      <td>G1</td>\n",
       "      <td>S01</td>\n",
       "      <td>U1</td>\n",
       "      <td>CSAT2004Q18</td>\n",
       "      <td>I have been living in this foreign country for...</td>\n",
       "    </tr>\n",
       "    <tr>\n",
       "      <th>1</th>\n",
       "      <td>RS001</td>\n",
       "      <td>SR0002</td>\n",
       "      <td>CST04-U1-S02</td>\n",
       "      <td>G1</td>\n",
       "      <td>S02</td>\n",
       "      <td>U1</td>\n",
       "      <td>CSAT2004Q19</td>\n",
       "      <td>A few years ago, I was traveling in the countr...</td>\n",
       "    </tr>\n",
       "    <tr>\n",
       "      <th>2</th>\n",
       "      <td>RS001</td>\n",
       "      <td>SR0003</td>\n",
       "      <td>CST04-U1-S03</td>\n",
       "      <td>G1</td>\n",
       "      <td>S03</td>\n",
       "      <td>U1</td>\n",
       "      <td>CSAT2004Q20</td>\n",
       "      <td>1. a group of similar things that one has deli...</td>\n",
       "    </tr>\n",
       "    <tr>\n",
       "      <th>3</th>\n",
       "      <td>RS001</td>\n",
       "      <td>SR0004</td>\n",
       "      <td>CST04-U1-S04</td>\n",
       "      <td>G1</td>\n",
       "      <td>S04</td>\n",
       "      <td>U1</td>\n",
       "      <td>CSAT2004Q21</td>\n",
       "      <td>Though we cannot dismiss Mr. Smith's opinion c...</td>\n",
       "    </tr>\n",
       "    <tr>\n",
       "      <th>4</th>\n",
       "      <td>RS001</td>\n",
       "      <td>SR0005</td>\n",
       "      <td>CST04-U1-S05</td>\n",
       "      <td>G1</td>\n",
       "      <td>S05</td>\n",
       "      <td>U1</td>\n",
       "      <td>CSAT2004Q22</td>\n",
       "      <td>Teens surround themselves with [BLANK] audienc...</td>\n",
       "    </tr>\n",
       "    <tr>\n",
       "      <th>...</th>\n",
       "      <td>...</td>\n",
       "      <td>...</td>\n",
       "      <td>...</td>\n",
       "      <td>...</td>\n",
       "      <td>...</td>\n",
       "      <td>...</td>\n",
       "      <td>...</td>\n",
       "      <td>...</td>\n",
       "    </tr>\n",
       "    <tr>\n",
       "      <th>2046</th>\n",
       "      <td>RS082</td>\n",
       "      <td>SR2047</td>\n",
       "      <td>PTF4.1-U2-S02</td>\n",
       "      <td>G1</td>\n",
       "      <td>S02</td>\n",
       "      <td>U2</td>\n",
       "      <td>Extreme Animals</td>\n",
       "      <td>INTRODUCTION\\nThere are many kinds of environm...</td>\n",
       "    </tr>\n",
       "    <tr>\n",
       "      <th>2047</th>\n",
       "      <td>RS082</td>\n",
       "      <td>SR2048</td>\n",
       "      <td>PTF4.1-U2-S03</td>\n",
       "      <td>G2</td>\n",
       "      <td>S03</td>\n",
       "      <td>U2</td>\n",
       "      <td>At the Library</td>\n",
       "      <td>Rick Dodson admired the pink and orange sky as...</td>\n",
       "    </tr>\n",
       "    <tr>\n",
       "      <th>2048</th>\n",
       "      <td>RS082</td>\n",
       "      <td>SR2049</td>\n",
       "      <td>PTF4.1-U2-S04</td>\n",
       "      <td>G2</td>\n",
       "      <td>S04</td>\n",
       "      <td>U2</td>\n",
       "      <td>A New Bear in the Forest</td>\n",
       "      <td>Chapter 1 There’s a Bear Outside!\\nJennie and ...</td>\n",
       "    </tr>\n",
       "    <tr>\n",
       "      <th>2049</th>\n",
       "      <td>RS082</td>\n",
       "      <td>SR2050</td>\n",
       "      <td>PTF4.1-U2-S05</td>\n",
       "      <td>G3</td>\n",
       "      <td>S05</td>\n",
       "      <td>U2</td>\n",
       "      <td>Judys Appalachia</td>\n",
       "      <td>Judy Bonds’s six-year-old grandson stood in a ...</td>\n",
       "    </tr>\n",
       "    <tr>\n",
       "      <th>2050</th>\n",
       "      <td>RS082</td>\n",
       "      <td>SR2051</td>\n",
       "      <td>PTF4.1-U2-S06</td>\n",
       "      <td>G3</td>\n",
       "      <td>S06</td>\n",
       "      <td>U2</td>\n",
       "      <td>Jacob Riis Champion of the Poor</td>\n",
       "      <td>CHAPTER 1 Beginnings\\nJacob Riis (REES) immigr...</td>\n",
       "    </tr>\n",
       "  </tbody>\n",
       "</table>\n",
       "<p>2051 rows × 8 columns</p>\n",
       "</div>"
      ],
      "text/plain": [
       "      RS ID   SR ID        SR Code Group SR Order Unit  \\\n",
       "0     RS001  SR0001   CST04-U1-S01    G1      S01   U1   \n",
       "1     RS001  SR0002   CST04-U1-S02    G1      S02   U1   \n",
       "2     RS001  SR0003   CST04-U1-S03    G1      S03   U1   \n",
       "3     RS001  SR0004   CST04-U1-S04    G1      S04   U1   \n",
       "4     RS001  SR0005   CST04-U1-S05    G1      S05   U1   \n",
       "...     ...     ...            ...   ...      ...  ...   \n",
       "2046  RS082  SR2047  PTF4.1-U2-S02    G1      S02   U2   \n",
       "2047  RS082  SR2048  PTF4.1-U2-S03    G2      S03   U2   \n",
       "2048  RS082  SR2049  PTF4.1-U2-S04    G2      S04   U2   \n",
       "2049  RS082  SR2050  PTF4.1-U2-S05    G3      S05   U2   \n",
       "2050  RS082  SR2051  PTF4.1-U2-S06    G3      S06   U2   \n",
       "\n",
       "                             SR Title  \\\n",
       "0                         CSAT2004Q18   \n",
       "1                         CSAT2004Q19   \n",
       "2                         CSAT2004Q20   \n",
       "3                         CSAT2004Q21   \n",
       "4                         CSAT2004Q22   \n",
       "...                               ...   \n",
       "2046                  Extreme Animals   \n",
       "2047                   At the Library   \n",
       "2048         A New Bear in the Forest   \n",
       "2049                 Judys Appalachia   \n",
       "2050  Jacob Riis Champion of the Poor   \n",
       "\n",
       "                                                   Text  \n",
       "0     I have been living in this foreign country for...  \n",
       "1     A few years ago, I was traveling in the countr...  \n",
       "2     1. a group of similar things that one has deli...  \n",
       "3     Though we cannot dismiss Mr. Smith's opinion c...  \n",
       "4     Teens surround themselves with [BLANK] audienc...  \n",
       "...                                                 ...  \n",
       "2046  INTRODUCTION\\nThere are many kinds of environm...  \n",
       "2047  Rick Dodson admired the pink and orange sky as...  \n",
       "2048  Chapter 1 There’s a Bear Outside!\\nJennie and ...  \n",
       "2049  Judy Bonds’s six-year-old grandson stood in a ...  \n",
       "2050  CHAPTER 1 Beginnings\\nJacob Riis (REES) immigr...  \n",
       "\n",
       "[2051 rows x 8 columns]"
      ]
     },
     "execution_count": 53,
     "metadata": {},
     "output_type": "execute_result"
    }
   ],
   "source": [
    "with open('./data/resource_table_new.pickle', 'rb') as f:\n",
    "    textbook_df = pickle.load(f)\n",
    "with open('./data/story_table_text_new.pickle', 'rb') as f:\n",
    "    story_df = pickle.load(f)\n",
    "story_df"
   ]
  },
  {
   "cell_type": "code",
   "execution_count": 50,
   "id": "f26c3f41",
   "metadata": {},
   "outputs": [
    {
     "data": {
      "text/html": [
       "<div>\n",
       "<style scoped>\n",
       "    .dataframe tbody tr th:only-of-type {\n",
       "        vertical-align: middle;\n",
       "    }\n",
       "\n",
       "    .dataframe tbody tr th {\n",
       "        vertical-align: top;\n",
       "    }\n",
       "\n",
       "    .dataframe thead th {\n",
       "        text-align: right;\n",
       "    }\n",
       "</style>\n",
       "<table border=\"1\" class=\"dataframe\">\n",
       "  <thead>\n",
       "    <tr style=\"text-align: right;\">\n",
       "      <th></th>\n",
       "      <th>RS ID</th>\n",
       "      <th>SR ID</th>\n",
       "      <th>SR Code</th>\n",
       "      <th>Group</th>\n",
       "      <th>SR Order</th>\n",
       "      <th>Unit</th>\n",
       "      <th>SR Title</th>\n",
       "      <th>Text</th>\n",
       "    </tr>\n",
       "  </thead>\n",
       "  <tbody>\n",
       "  </tbody>\n",
       "</table>\n",
       "</div>"
      ],
      "text/plain": [
       "Empty DataFrame\n",
       "Columns: [RS ID, SR ID, SR Code, Group, SR Order, Unit, SR Title, Text]\n",
       "Index: []"
      ]
     },
     "execution_count": 50,
     "metadata": {},
     "output_type": "execute_result"
    }
   ],
   "source": [
    "story_df[story_df['SR ID'].duplicated()]"
   ]
  },
  {
   "cell_type": "markdown",
   "id": "c4de1b88",
   "metadata": {},
   "source": [
    "# 2) Sentence table 업데이트\n",
    "#### sentence table 업데이트 + ST ID - XT ID / ST ID -UL ID + XT ID / UL ID table 모두 업데이트\n",
    "#### 리스트 형식으로 ['과정', '폴더이름'] 파라미터로 입력\n",
    "- sentence table의 해당 Story ID가 story table 에서 이미 구축되어 있는 경우, 메세지와 함께 중지"
   ]
  },
  {
   "cell_type": "code",
   "execution_count": 54,
   "id": "e50e0f54",
   "metadata": {},
   "outputs": [
    {
     "name": "stdout",
     "output_type": "stream",
     "text": [
      "------------Mariner------------\n",
      "sentence table updated :887 sentences\n",
      "-newly added token:xpos IDs -> 238\n",
      "-newly added upos:lemma IDs -> 90\n",
      "--XT ID UL ID Updated\n"
     ]
    }
   ],
   "source": [
    "update_sentence_ids(['ELE','ENG-PTF-4.1-4-Mariner'])"
   ]
  },
  {
   "cell_type": "code",
   "execution_count": 55,
   "id": "d6558320",
   "metadata": {},
   "outputs": [
    {
     "data": {
      "text/html": [
       "<div>\n",
       "<style scoped>\n",
       "    .dataframe tbody tr th:only-of-type {\n",
       "        vertical-align: middle;\n",
       "    }\n",
       "\n",
       "    .dataframe tbody tr th {\n",
       "        vertical-align: top;\n",
       "    }\n",
       "\n",
       "    .dataframe thead th {\n",
       "        text-align: right;\n",
       "    }\n",
       "</style>\n",
       "<table border=\"1\" class=\"dataframe\">\n",
       "  <thead>\n",
       "    <tr style=\"text-align: right;\">\n",
       "      <th></th>\n",
       "      <th>UL ID</th>\n",
       "      <th>UPOS:Lemma</th>\n",
       "    </tr>\n",
       "  </thead>\n",
       "  <tbody>\n",
       "    <tr>\n",
       "      <th>14128</th>\n",
       "      <td>UL14137</td>\n",
       "      <td>ADJ:overcrowded</td>\n",
       "    </tr>\n",
       "    <tr>\n",
       "      <th>14129</th>\n",
       "      <td>UL14138</td>\n",
       "      <td>NOUN:stepfather</td>\n",
       "    </tr>\n",
       "    <tr>\n",
       "      <th>14130</th>\n",
       "      <td>UL14139</td>\n",
       "      <td>NOUN:farmhand</td>\n",
       "    </tr>\n",
       "    <tr>\n",
       "      <th>14131</th>\n",
       "      <td>UL14140</td>\n",
       "      <td>NOUN:shed</td>\n",
       "    </tr>\n",
       "    <tr>\n",
       "      <th>14132</th>\n",
       "      <td>UL14141</td>\n",
       "      <td>ADJ:half</td>\n",
       "    </tr>\n",
       "  </tbody>\n",
       "</table>\n",
       "</div>"
      ],
      "text/plain": [
       "         UL ID       UPOS:Lemma\n",
       "14128  UL14137  ADJ:overcrowded\n",
       "14129  UL14138  NOUN:stepfather\n",
       "14130  UL14139    NOUN:farmhand\n",
       "14131  UL14140        NOUN:shed\n",
       "14132  UL14141         ADJ:half"
      ]
     },
     "execution_count": 55,
     "metadata": {},
     "output_type": "execute_result"
    }
   ],
   "source": [
    "with open('./data/ULID.pickle', 'rb') as f :\n",
    "    lemma_upos=pickle.load(f)\n",
    "lemma_upos.tail()\n",
    "#int(lemma_upos.iloc[-1]['UL ID'][2:]) \n",
    "#lemma_upos[lemma_upos['UL ID'].duplicated()]"
   ]
  },
  {
   "cell_type": "code",
   "execution_count": 58,
   "id": "0744b8a7",
   "metadata": {},
   "outputs": [
    {
     "data": {
      "text/html": [
       "<div>\n",
       "<style scoped>\n",
       "    .dataframe tbody tr th:only-of-type {\n",
       "        vertical-align: middle;\n",
       "    }\n",
       "\n",
       "    .dataframe tbody tr th {\n",
       "        vertical-align: top;\n",
       "    }\n",
       "\n",
       "    .dataframe thead th {\n",
       "        text-align: right;\n",
       "    }\n",
       "</style>\n",
       "<table border=\"1\" class=\"dataframe\">\n",
       "  <thead>\n",
       "    <tr style=\"text-align: right;\">\n",
       "      <th></th>\n",
       "      <th>SR ID</th>\n",
       "      <th>Sentence</th>\n",
       "      <th>ST ID</th>\n",
       "    </tr>\n",
       "  </thead>\n",
       "  <tbody>\n",
       "    <tr>\n",
       "      <th>0</th>\n",
       "      <td>SR0001</td>\n",
       "      <td>I have been living in this foreign country for...</td>\n",
       "      <td>ST00001</td>\n",
       "    </tr>\n",
       "    <tr>\n",
       "      <th>1</th>\n",
       "      <td>SR0001</td>\n",
       "      <td>Near my house is a tiny dry-cleaning shop run ...</td>\n",
       "      <td>ST00002</td>\n",
       "    </tr>\n",
       "    <tr>\n",
       "      <th>2</th>\n",
       "      <td>SR0001</td>\n",
       "      <td>They are probably in their 60s, which isn't al...</td>\n",
       "      <td>ST00003</td>\n",
       "    </tr>\n",
       "    <tr>\n",
       "      <th>3</th>\n",
       "      <td>SR0001</td>\n",
       "      <td>Sometimes they try my patience.</td>\n",
       "      <td>ST00004</td>\n",
       "    </tr>\n",
       "    <tr>\n",
       "      <th>4</th>\n",
       "      <td>SR0001</td>\n",
       "      <td>Once I had to go back five times to pick up a ...</td>\n",
       "      <td>ST00005</td>\n",
       "    </tr>\n",
       "    <tr>\n",
       "      <th>...</th>\n",
       "      <td>...</td>\n",
       "      <td>...</td>\n",
       "      <td>...</td>\n",
       "    </tr>\n",
       "    <tr>\n",
       "      <th>41578</th>\n",
       "      <td>SR2051</td>\n",
       "      <td>It took 14 years to tear down the Five Points ...</td>\n",
       "      <td>ST41579</td>\n",
       "    </tr>\n",
       "    <tr>\n",
       "      <th>41579</th>\n",
       "      <td>SR2051</td>\n",
       "      <td>Riis’s work helped win that battle.</td>\n",
       "      <td>ST41580</td>\n",
       "    </tr>\n",
       "    <tr>\n",
       "      <th>41580</th>\n",
       "      <td>SR2051</td>\n",
       "      <td>Jacob Riis died in 1914.</td>\n",
       "      <td>ST41581</td>\n",
       "    </tr>\n",
       "    <tr>\n",
       "      <th>41581</th>\n",
       "      <td>SR2051</td>\n",
       "      <td>Jacob Riis Park in New York City is a memorial...</td>\n",
       "      <td>ST41582</td>\n",
       "    </tr>\n",
       "    <tr>\n",
       "      <th>41582</th>\n",
       "      <td>SR2051</td>\n",
       "      <td>There are also a school and a playground named...</td>\n",
       "      <td>ST41583</td>\n",
       "    </tr>\n",
       "  </tbody>\n",
       "</table>\n",
       "<p>41583 rows × 3 columns</p>\n",
       "</div>"
      ],
      "text/plain": [
       "        SR ID                                           Sentence    ST ID\n",
       "0      SR0001  I have been living in this foreign country for...  ST00001\n",
       "1      SR0001  Near my house is a tiny dry-cleaning shop run ...  ST00002\n",
       "2      SR0001  They are probably in their 60s, which isn't al...  ST00003\n",
       "3      SR0001                    Sometimes they try my patience.  ST00004\n",
       "4      SR0001  Once I had to go back five times to pick up a ...  ST00005\n",
       "...       ...                                                ...      ...\n",
       "41578  SR2051  It took 14 years to tear down the Five Points ...  ST41579\n",
       "41579  SR2051                Riis’s work helped win that battle.  ST41580\n",
       "41580  SR2051                           Jacob Riis died in 1914.  ST41581\n",
       "41581  SR2051  Jacob Riis Park in New York City is a memorial...  ST41582\n",
       "41582  SR2051  There are also a school and a playground named...  ST41583\n",
       "\n",
       "[41583 rows x 3 columns]"
      ]
     },
     "execution_count": 58,
     "metadata": {},
     "output_type": "execute_result"
    }
   ],
   "source": [
    "with open('./data/sentence_list_new.pickle', 'rb') as f:\n",
    "    sentence_df = pickle.load(f)\n",
    "with open('./data/STID_XTID_new.pickle', 'rb') as f :\n",
    "    STID_XTID=pickle.load(f)\n",
    "with open('./data/STID_ULID_new.pickle', 'rb') as f :\n",
    "    STID_ULID=pickle.load(f)\n",
    "sentence_df"
   ]
  },
  {
   "cell_type": "markdown",
   "id": "1151a1ea",
   "metadata": {},
   "source": [
    "# ------------------------------------------------------"
   ]
  },
  {
   "cell_type": "markdown",
   "id": "99198fc9",
   "metadata": {},
   "source": [
    "# 3) 몇 개의 레퍼런스 / 스토리 / 문장에서 등장했는지 알아보기\n",
    "* create_merged_df() -> 각 UL ID와 RS, SR, ST 정보 합친 테이블 생성\n",
    "* get_sentence_story_textbook(st_lemma_txt)"
   ]
  },
  {
   "cell_type": "code",
   "execution_count": 9,
   "id": "13c99cfa",
   "metadata": {},
   "outputs": [
    {
     "data": {
      "text/html": [
       "<div>\n",
       "<style scoped>\n",
       "    .dataframe tbody tr th:only-of-type {\n",
       "        vertical-align: middle;\n",
       "    }\n",
       "\n",
       "    .dataframe tbody tr th {\n",
       "        vertical-align: top;\n",
       "    }\n",
       "\n",
       "    .dataframe thead th {\n",
       "        text-align: right;\n",
       "    }\n",
       "</style>\n",
       "<table border=\"1\" class=\"dataframe\">\n",
       "  <thead>\n",
       "    <tr style=\"text-align: right;\">\n",
       "      <th></th>\n",
       "      <th>UL ID</th>\n",
       "      <th>UPOS:Lemma</th>\n",
       "      <th>RS ID</th>\n",
       "      <th>RS Code</th>\n",
       "      <th>RS Title</th>\n",
       "      <th>SR ID</th>\n",
       "      <th>SR Code</th>\n",
       "      <th>SR Title</th>\n",
       "      <th>ST ID</th>\n",
       "      <th>Sentence</th>\n",
       "    </tr>\n",
       "  </thead>\n",
       "  <tbody>\n",
       "    <tr>\n",
       "      <th>0</th>\n",
       "      <td>UL00067</td>\n",
       "      <td>VERB:live</td>\n",
       "      <td>RS001</td>\n",
       "      <td>CST-04</td>\n",
       "      <td>2004</td>\n",
       "      <td>SR0001</td>\n",
       "      <td>CST-04-S01</td>\n",
       "      <td>CSAT2004Q18</td>\n",
       "      <td>ST00001</td>\n",
       "      <td>I have been living in this foreign country for...</td>\n",
       "    </tr>\n",
       "    <tr>\n",
       "      <th>1</th>\n",
       "      <td>UL03396</td>\n",
       "      <td>ADJ:foreign</td>\n",
       "      <td>RS001</td>\n",
       "      <td>CST-04</td>\n",
       "      <td>2004</td>\n",
       "      <td>SR0001</td>\n",
       "      <td>CST-04-S01</td>\n",
       "      <td>CSAT2004Q18</td>\n",
       "      <td>ST00001</td>\n",
       "      <td>I have been living in this foreign country for...</td>\n",
       "    </tr>\n",
       "    <tr>\n",
       "      <th>2</th>\n",
       "      <td>UL00915</td>\n",
       "      <td>NOUN:country</td>\n",
       "      <td>RS001</td>\n",
       "      <td>CST-04</td>\n",
       "      <td>2004</td>\n",
       "      <td>SR0001</td>\n",
       "      <td>CST-04-S01</td>\n",
       "      <td>CSAT2004Q18</td>\n",
       "      <td>ST00001</td>\n",
       "      <td>I have been living in this foreign country for...</td>\n",
       "    </tr>\n",
       "    <tr>\n",
       "      <th>3</th>\n",
       "      <td>UL00182</td>\n",
       "      <td>NOUN:year</td>\n",
       "      <td>RS001</td>\n",
       "      <td>CST-04</td>\n",
       "      <td>2004</td>\n",
       "      <td>SR0001</td>\n",
       "      <td>CST-04-S01</td>\n",
       "      <td>CSAT2004Q18</td>\n",
       "      <td>ST00001</td>\n",
       "      <td>I have been living in this foreign country for...</td>\n",
       "    </tr>\n",
       "    <tr>\n",
       "      <th>4</th>\n",
       "      <td>UL00644</td>\n",
       "      <td>NOUN:house</td>\n",
       "      <td>RS001</td>\n",
       "      <td>CST-04</td>\n",
       "      <td>2004</td>\n",
       "      <td>SR0001</td>\n",
       "      <td>CST-04-S01</td>\n",
       "      <td>CSAT2004Q18</td>\n",
       "      <td>ST00002</td>\n",
       "      <td>Near my house is a tiny dry-cleaning shop run ...</td>\n",
       "    </tr>\n",
       "  </tbody>\n",
       "</table>\n",
       "</div>"
      ],
      "text/plain": [
       "     UL ID    UPOS:Lemma  RS ID RS Code RS Title   SR ID     SR Code  \\\n",
       "0  UL00067     VERB:live  RS001  CST-04     2004  SR0001  CST-04-S01   \n",
       "1  UL03396   ADJ:foreign  RS001  CST-04     2004  SR0001  CST-04-S01   \n",
       "2  UL00915  NOUN:country  RS001  CST-04     2004  SR0001  CST-04-S01   \n",
       "3  UL00182     NOUN:year  RS001  CST-04     2004  SR0001  CST-04-S01   \n",
       "4  UL00644    NOUN:house  RS001  CST-04     2004  SR0001  CST-04-S01   \n",
       "\n",
       "      SR Title    ST ID                                           Sentence  \n",
       "0  CSAT2004Q18  ST00001  I have been living in this foreign country for...  \n",
       "1  CSAT2004Q18  ST00001  I have been living in this foreign country for...  \n",
       "2  CSAT2004Q18  ST00001  I have been living in this foreign country for...  \n",
       "3  CSAT2004Q18  ST00001  I have been living in this foreign country for...  \n",
       "4  CSAT2004Q18  ST00002  Near my house is a tiny dry-cleaning shop run ...  "
      ]
     },
     "execution_count": 9,
     "metadata": {},
     "output_type": "execute_result"
    }
   ],
   "source": [
    "st_lemma_txt=create_merged_df()\n",
    "st_lemma_txt.head()"
   ]
  },
  {
   "cell_type": "markdown",
   "id": "50f171c0",
   "metadata": {},
   "source": [
    "# ------------------------------------------------------"
   ]
  },
  {
   "cell_type": "markdown",
   "id": "a7ffc77c",
   "metadata": {},
   "source": [
    "# 4) SR & ST Count + ST/SR Count\n",
    "#### parameter: ULID"
   ]
  },
  {
   "cell_type": "code",
   "execution_count": 58,
   "id": "d49df5cc",
   "metadata": {},
   "outputs": [],
   "source": [
    "st_lemma_txt=create_merged_df()"
   ]
  },
  {
   "cell_type": "code",
   "execution_count": 59,
   "id": "f482ee76",
   "metadata": {
    "scrolled": true
   },
   "outputs": [
    {
     "name": "stderr",
     "output_type": "stream",
     "text": [
      "100%|██████████████████████████████████████| 12930/12930 [01:08<00:00, 188.51it/s]\n"
     ]
    },
    {
     "data": {
      "text/html": [
       "<div>\n",
       "<style scoped>\n",
       "    .dataframe tbody tr th:only-of-type {\n",
       "        vertical-align: middle;\n",
       "    }\n",
       "\n",
       "    .dataframe tbody tr th {\n",
       "        vertical-align: top;\n",
       "    }\n",
       "\n",
       "    .dataframe thead th {\n",
       "        text-align: right;\n",
       "    }\n",
       "</style>\n",
       "<table border=\"1\" class=\"dataframe\">\n",
       "  <thead>\n",
       "    <tr style=\"text-align: right;\">\n",
       "      <th></th>\n",
       "      <th>UL ID</th>\n",
       "      <th>UPOS:Lemma</th>\n",
       "      <th>SR Count</th>\n",
       "      <th>ST Count</th>\n",
       "      <th>ST/SR</th>\n",
       "    </tr>\n",
       "  </thead>\n",
       "  <tbody>\n",
       "    <tr>\n",
       "      <th>0</th>\n",
       "      <td>UL00001</td>\n",
       "      <td>NOUN:engineer</td>\n",
       "      <td>23</td>\n",
       "      <td>40</td>\n",
       "      <td>1.74</td>\n",
       "    </tr>\n",
       "    <tr>\n",
       "      <th>1</th>\n",
       "      <td>UL00002</td>\n",
       "      <td>VERB:like</td>\n",
       "      <td>109</td>\n",
       "      <td>136</td>\n",
       "      <td>1.25</td>\n",
       "    </tr>\n",
       "    <tr>\n",
       "      <th>2</th>\n",
       "      <td>UL00003</td>\n",
       "      <td>VERB:solve</td>\n",
       "      <td>52</td>\n",
       "      <td>71</td>\n",
       "      <td>1.37</td>\n",
       "    </tr>\n",
       "    <tr>\n",
       "      <th>3</th>\n",
       "      <td>UL00004</td>\n",
       "      <td>NOUN:problem</td>\n",
       "      <td>180</td>\n",
       "      <td>256</td>\n",
       "      <td>1.42</td>\n",
       "    </tr>\n",
       "    <tr>\n",
       "      <th>4</th>\n",
       "      <td>UL00005</td>\n",
       "      <td>VERB:fix</td>\n",
       "      <td>23</td>\n",
       "      <td>29</td>\n",
       "      <td>1.26</td>\n",
       "    </tr>\n",
       "    <tr>\n",
       "      <th>...</th>\n",
       "      <td>...</td>\n",
       "      <td>...</td>\n",
       "      <td>...</td>\n",
       "      <td>...</td>\n",
       "      <td>...</td>\n",
       "    </tr>\n",
       "    <tr>\n",
       "      <th>12925</th>\n",
       "      <td>UL12934</td>\n",
       "      <td>VERB:ravage</td>\n",
       "      <td>1</td>\n",
       "      <td>1</td>\n",
       "      <td>1.00</td>\n",
       "    </tr>\n",
       "    <tr>\n",
       "      <th>12926</th>\n",
       "      <td>UL12935</td>\n",
       "      <td>ADJ:cyclical</td>\n",
       "      <td>1</td>\n",
       "      <td>1</td>\n",
       "      <td>1.00</td>\n",
       "    </tr>\n",
       "    <tr>\n",
       "      <th>12927</th>\n",
       "      <td>UL12936</td>\n",
       "      <td>VERB:converge</td>\n",
       "      <td>1</td>\n",
       "      <td>1</td>\n",
       "      <td>1.00</td>\n",
       "    </tr>\n",
       "    <tr>\n",
       "      <th>12928</th>\n",
       "      <td>UL12937</td>\n",
       "      <td>NOUN:upwelling</td>\n",
       "      <td>1</td>\n",
       "      <td>1</td>\n",
       "      <td>1.00</td>\n",
       "    </tr>\n",
       "    <tr>\n",
       "      <th>12929</th>\n",
       "      <td>UL12938</td>\n",
       "      <td>ADJ:unableb</td>\n",
       "      <td>1</td>\n",
       "      <td>1</td>\n",
       "      <td>1.00</td>\n",
       "    </tr>\n",
       "  </tbody>\n",
       "</table>\n",
       "<p>12930 rows × 5 columns</p>\n",
       "</div>"
      ],
      "text/plain": [
       "         UL ID      UPOS:Lemma  SR Count  ST Count  ST/SR\n",
       "0      UL00001   NOUN:engineer        23        40   1.74\n",
       "1      UL00002       VERB:like       109       136   1.25\n",
       "2      UL00003      VERB:solve        52        71   1.37\n",
       "3      UL00004    NOUN:problem       180       256   1.42\n",
       "4      UL00005        VERB:fix        23        29   1.26\n",
       "...        ...             ...       ...       ...    ...\n",
       "12925  UL12934     VERB:ravage         1         1   1.00\n",
       "12926  UL12935    ADJ:cyclical         1         1   1.00\n",
       "12927  UL12936   VERB:converge         1         1   1.00\n",
       "12928  UL12937  NOUN:upwelling         1         1   1.00\n",
       "12929  UL12938     ADJ:unableb         1         1   1.00\n",
       "\n",
       "[12930 rows x 5 columns]"
      ]
     },
     "execution_count": 59,
     "metadata": {},
     "output_type": "execute_result"
    }
   ],
   "source": [
    "countdf=get_sr_st_count(lemma_upos2)\n",
    "countdf"
   ]
  },
  {
   "cell_type": "markdown",
   "id": "4a05df5f",
   "metadata": {},
   "source": [
    "# 5) 레퍼런스 단어 제외\n",
    "#### parameter: ref_df, lemma_df, condition"
   ]
  },
  {
   "cell_type": "code",
   "execution_count": 42,
   "id": "430a17a6",
   "metadata": {},
   "outputs": [],
   "source": [
    "with open('./data/ULID.pickle', 'rb') as f : \n",
    "    lemma_upos=pickle.load(f)\n",
    "\n",
    "reference=['Function Words', '교육부3K', 'Poly5K', 'CCSS3K', 'COCA6K']\n",
    "\n",
    "with open('./data/'+reference[0]+'.pickle', 'rb') as f :\n",
    "    ref_df1=pickle.load(f)\n",
    "    \n",
    "with open('./data/'+reference[1]+'.pickle', 'rb') as f :\n",
    "    ref_df2=pickle.load(f)\n",
    "\n",
    "with open('./data/'+reference[2]+'.pickle', 'rb') as f :\n",
    "    ref_df3=pickle.load(f)\n",
    "\n",
    "with open('./data/'+reference[3]+'.pickle', 'rb') as f :\n",
    "    ref_df4=pickle.load(f)"
   ]
  },
  {
   "cell_type": "code",
   "execution_count": 14,
   "id": "916362e2",
   "metadata": {},
   "outputs": [],
   "source": [
    "ref_dec_df1=reference_words_exclusion(ref_df1,lemma_upos, 'LEMMA')\n",
    "ref_dec_df2=reference_words_exclusion(ref_df2, ref_dec_df1,'LEMMA')\n",
    "ref_dec_df3=reference_words_exclusion(ref_df3, ref_dec_df2,'POS:LEMMA')\n",
    "ref_dec_df4=reference_words_exclusion(ref_df4, ref_dec_df3,'POS:LEMMA')"
   ]
  },
  {
   "cell_type": "code",
   "execution_count": 26,
   "id": "a7507f28",
   "metadata": {
    "scrolled": true
   },
   "outputs": [
    {
     "name": "stderr",
     "output_type": "stream",
     "text": [
      "100%|████████████████████████████████████████| 5999/5999 [00:30<00:00, 197.38it/s]\n"
     ]
    }
   ],
   "source": [
    "sr_count_df=get_sr_st_count(ref_dec_df4)"
   ]
  },
  {
   "cell_type": "markdown",
   "id": "f02f5a3f",
   "metadata": {},
   "source": [
    "# ------------------------------------------------------"
   ]
  },
  {
   "cell_type": "markdown",
   "id": "80b363cb",
   "metadata": {},
   "source": [
    "# 6) UPOS:LEMMA 가 등장한 모든 문장을 테이블로\n",
    "#### 파라미터는 \"UPOS:LEMMA\"\n",
    "* RS ID, RS Code, RS Title\n",
    "* SR ID, ST Title\n",
    "* ST ID & Sentence"
   ]
  },
  {
   "cell_type": "code",
   "execution_count": 88,
   "id": "d1280468",
   "metadata": {},
   "outputs": [
    {
     "data": {
      "text/html": [
       "<div>\n",
       "<style scoped>\n",
       "    .dataframe tbody tr th:only-of-type {\n",
       "        vertical-align: middle;\n",
       "    }\n",
       "\n",
       "    .dataframe tbody tr th {\n",
       "        vertical-align: top;\n",
       "    }\n",
       "\n",
       "    .dataframe thead th {\n",
       "        text-align: right;\n",
       "    }\n",
       "</style>\n",
       "<table border=\"1\" class=\"dataframe\">\n",
       "  <thead>\n",
       "    <tr style=\"text-align: right;\">\n",
       "      <th></th>\n",
       "      <th>RS Code</th>\n",
       "      <th>Sentence</th>\n",
       "    </tr>\n",
       "  </thead>\n",
       "  <tbody>\n",
       "    <tr>\n",
       "      <th>0</th>\n",
       "      <td>CST-04</td>\n",
       "      <td>The rainforests are full of plants and animals that need each other and help each other.</td>\n",
       "    </tr>\n",
       "    <tr>\n",
       "      <th>1</th>\n",
       "      <td>CST-04</td>\n",
       "      <td>We need people to help with telephone calls from customers placing advertisements in our newspaper.</td>\n",
       "    </tr>\n",
       "    <tr>\n",
       "      <th>2</th>\n",
       "      <td>CST-04</td>\n",
       "      <td>Because we want to help customers get the most from their advertisements, we are looking for people who can demonstrate the following:</td>\n",
       "    </tr>\n",
       "    <tr>\n",
       "      <th>3</th>\n",
       "      <td>CST-04</td>\n",
       "      <td>I learned how to play a traditional Korean musical instrument, the janggu, which helped me make friends more easily.</td>\n",
       "    </tr>\n",
       "    <tr>\n",
       "      <th>4</th>\n",
       "      <td>CST-04</td>\n",
       "      <td>For example, to help busy shoppers race through the store, companies now display floor plans in many different places throughout the store.</td>\n",
       "    </tr>\n",
       "    <tr>\n",
       "      <th>...</th>\n",
       "      <td>...</td>\n",
       "      <td>...</td>\n",
       "    </tr>\n",
       "    <tr>\n",
       "      <th>626</th>\n",
       "      <td>JRN-3.1</td>\n",
       "      <td>Even the President would have to help.</td>\n",
       "    </tr>\n",
       "    <tr>\n",
       "      <th>627</th>\n",
       "      <td>JRN-3.1</td>\n",
       "      <td>White House gardeners prepared the land, and elementary students from Washington, D.C., helped Mrs. Obama to plant seeds.</td>\n",
       "    </tr>\n",
       "    <tr>\n",
       "      <th>628</th>\n",
       "      <td>JRN-3.1</td>\n",
       "      <td>The signal said ‘We are dying,’ and then ‘Come and help us.’”</td>\n",
       "    </tr>\n",
       "    <tr>\n",
       "      <th>629</th>\n",
       "      <td>JRN-3.1</td>\n",
       "      <td>You will lead our people and help those in need.</td>\n",
       "    </tr>\n",
       "    <tr>\n",
       "      <th>630</th>\n",
       "      <td>JRN-3.1</td>\n",
       "      <td>Yes, you will be our chief and help us climb yonder mountain.”</td>\n",
       "    </tr>\n",
       "  </tbody>\n",
       "</table>\n",
       "<p>631 rows × 2 columns</p>\n",
       "</div>"
      ],
      "text/plain": [
       "     RS Code  \\\n",
       "0     CST-04   \n",
       "1     CST-04   \n",
       "2     CST-04   \n",
       "3     CST-04   \n",
       "4     CST-04   \n",
       "..       ...   \n",
       "626  JRN-3.1   \n",
       "627  JRN-3.1   \n",
       "628  JRN-3.1   \n",
       "629  JRN-3.1   \n",
       "630  JRN-3.1   \n",
       "\n",
       "                                                                                                                                        Sentence  \n",
       "0                                                       The rainforests are full of plants and animals that need each other and help each other.  \n",
       "1                                            We need people to help with telephone calls from customers placing advertisements in our newspaper.  \n",
       "2         Because we want to help customers get the most from their advertisements, we are looking for people who can demonstrate the following:  \n",
       "3                           I learned how to play a traditional Korean musical instrument, the janggu, which helped me make friends more easily.  \n",
       "4    For example, to help busy shoppers race through the store, companies now display floor plans in many different places throughout the store.  \n",
       "..                                                                                                                                           ...  \n",
       "626                                                                                                       Even the President would have to help.  \n",
       "627                    White House gardeners prepared the land, and elementary students from Washington, D.C., helped Mrs. Obama to plant seeds.  \n",
       "628                                                                                The signal said ‘We are dying,’ and then ‘Come and help us.’”  \n",
       "629                                                                                             You will lead our people and help those in need.  \n",
       "630                                                                               Yes, you will be our chief and help us climb yonder mountain.”  \n",
       "\n",
       "[631 rows x 2 columns]"
      ]
     },
     "execution_count": 88,
     "metadata": {},
     "output_type": "execute_result"
    }
   ],
   "source": [
    "df=get_ul_sentence('VERB:help')\n",
    "#pd.set_option('max_rows', None)\n",
    "pd.set_option('max_colwidth', None)\n",
    "df[['RS Code', 'Sentence']]"
   ]
  },
  {
   "cell_type": "markdown",
   "id": "660d54be",
   "metadata": {},
   "source": [
    "# ------------------------------------------------------"
   ]
  },
  {
   "cell_type": "markdown",
   "id": "e92444dc",
   "metadata": {},
   "source": [
    "# 7) 각 UPOS:LEMMA의 RS Code & SR Code\n",
    "#### UPOS:LEMMA 가 등장하는 Resource code / Story code 를 comma 로 분리 된 테이블로"
   ]
  },
  {
   "cell_type": "code",
   "execution_count": 112,
   "id": "0fd83d9b",
   "metadata": {},
   "outputs": [
    {
     "name": "stderr",
     "output_type": "stream",
     "text": [
      "100%|████████████████████████████████████| 15081/15081 [01:17<00:00, 195.41it/s]\n"
     ]
    },
    {
     "data": {
      "text/html": [
       "<div>\n",
       "<style scoped>\n",
       "    .dataframe tbody tr th:only-of-type {\n",
       "        vertical-align: middle;\n",
       "    }\n",
       "\n",
       "    .dataframe tbody tr th {\n",
       "        vertical-align: top;\n",
       "    }\n",
       "\n",
       "    .dataframe thead th {\n",
       "        text-align: right;\n",
       "    }\n",
       "</style>\n",
       "<table border=\"1\" class=\"dataframe\">\n",
       "  <thead>\n",
       "    <tr style=\"text-align: right;\">\n",
       "      <th></th>\n",
       "      <th>UL ID</th>\n",
       "      <th>UPOS:Lemma</th>\n",
       "      <th>RS Code</th>\n",
       "    </tr>\n",
       "  </thead>\n",
       "  <tbody>\n",
       "    <tr>\n",
       "      <th>0</th>\n",
       "      <td>UL00001</td>\n",
       "      <td>NOUN:engineer</td>\n",
       "      <td>ISL-3, ESC-4, ESC-6, JRN3.1, ALP-V4, ANF-6, PT...</td>\n",
       "    </tr>\n",
       "    <tr>\n",
       "      <th>1</th>\n",
       "      <td>UL00002</td>\n",
       "      <td>VERB:like</td>\n",
       "      <td>MWD-2, ESC-6, MWD-3, ALP-V4, ALP-Z5, PTF3.1, E...</td>\n",
       "    </tr>\n",
       "    <tr>\n",
       "      <th>2</th>\n",
       "      <td>UL00003</td>\n",
       "      <td>VERB:solve</td>\n",
       "      <td>ESC-4, MWD-2, ESC-6, MWD-3, WDS2.2, WDS3.1, AL...</td>\n",
       "    </tr>\n",
       "    <tr>\n",
       "      <th>3</th>\n",
       "      <td>UL00004</td>\n",
       "      <td>NOUN:problem</td>\n",
       "      <td>MWD-2, ESC-6, MWD-3, ALP-V4, ANF-6, ALP-Z5, PT...</td>\n",
       "    </tr>\n",
       "    <tr>\n",
       "      <th>4</th>\n",
       "      <td>UL00005</td>\n",
       "      <td>VERB:fix</td>\n",
       "      <td>ESC-4, MWD-2, WDS2.2, MWD-3, JRN3.1, ERK3, WDS...</td>\n",
       "    </tr>\n",
       "    <tr>\n",
       "      <th>...</th>\n",
       "      <td>...</td>\n",
       "      <td>...</td>\n",
       "      <td>...</td>\n",
       "    </tr>\n",
       "    <tr>\n",
       "      <th>15076</th>\n",
       "      <td>UL15085</td>\n",
       "      <td>NOUN:pih</td>\n",
       "      <td>ERK3</td>\n",
       "    </tr>\n",
       "    <tr>\n",
       "      <th>15077</th>\n",
       "      <td>UL15086</td>\n",
       "      <td>NOUN:toon</td>\n",
       "      <td>ERK3</td>\n",
       "    </tr>\n",
       "    <tr>\n",
       "      <th>15078</th>\n",
       "      <td>UL15087</td>\n",
       "      <td>NOUN:urn</td>\n",
       "      <td>ERK3</td>\n",
       "    </tr>\n",
       "    <tr>\n",
       "      <th>15079</th>\n",
       "      <td>UL15088</td>\n",
       "      <td>NOUN:482°c</td>\n",
       "      <td>ERK3</td>\n",
       "    </tr>\n",
       "    <tr>\n",
       "      <th>15080</th>\n",
       "      <td>UL15089</td>\n",
       "      <td>NOUN:900°f</td>\n",
       "      <td>ERK3</td>\n",
       "    </tr>\n",
       "  </tbody>\n",
       "</table>\n",
       "<p>15081 rows × 3 columns</p>\n",
       "</div>"
      ],
      "text/plain": [
       "         UL ID     UPOS:Lemma  \\\n",
       "0      UL00001  NOUN:engineer   \n",
       "1      UL00002      VERB:like   \n",
       "2      UL00003     VERB:solve   \n",
       "3      UL00004   NOUN:problem   \n",
       "4      UL00005       VERB:fix   \n",
       "...        ...            ...   \n",
       "15076  UL15085       NOUN:pih   \n",
       "15077  UL15086      NOUN:toon   \n",
       "15078  UL15087       NOUN:urn   \n",
       "15079  UL15088     NOUN:482°c   \n",
       "15080  UL15089     NOUN:900°f   \n",
       "\n",
       "                                                 RS Code  \n",
       "0      ISL-3, ESC-4, ESC-6, JRN3.1, ALP-V4, ANF-6, PT...  \n",
       "1      MWD-2, ESC-6, MWD-3, ALP-V4, ALP-Z5, PTF3.1, E...  \n",
       "2      ESC-4, MWD-2, ESC-6, MWD-3, WDS2.2, WDS3.1, AL...  \n",
       "3      MWD-2, ESC-6, MWD-3, ALP-V4, ANF-6, ALP-Z5, PT...  \n",
       "4      ESC-4, MWD-2, WDS2.2, MWD-3, JRN3.1, ERK3, WDS...  \n",
       "...                                                  ...  \n",
       "15076                                               ERK3  \n",
       "15077                                               ERK3  \n",
       "15078                                               ERK3  \n",
       "15079                                               ERK3  \n",
       "15080                                               ERK3  \n",
       "\n",
       "[15081 rows x 3 columns]"
      ]
     },
     "execution_count": 112,
     "metadata": {},
     "output_type": "execute_result"
    }
   ],
   "source": [
    "res_code=get_resource_code()\n",
    "res_code"
   ]
  },
  {
   "cell_type": "code",
   "execution_count": 4,
   "id": "bf35447a",
   "metadata": {},
   "outputs": [
    {
     "data": {
      "text/plain": [
       "0    ESC-6, ISL-3, ANF-6, ESC-4, ALP-V4\n",
       "Name: RS Code, dtype: object"
      ]
     },
     "execution_count": 4,
     "metadata": {},
     "output_type": "execute_result"
    }
   ],
   "source": [
    "res_code[res_code['UPOS:Lemma']=='NOUN:engineer']['RS Code']"
   ]
  },
  {
   "cell_type": "code",
   "execution_count": 5,
   "id": "84071861",
   "metadata": {},
   "outputs": [
    {
     "data": {
      "text/plain": [
       "'ESC-6, ISL-3, ANF-6, ESC-4, ALP-V4'"
      ]
     },
     "execution_count": 5,
     "metadata": {},
     "output_type": "execute_result"
    }
   ],
   "source": [
    "res_code['RS Code'].loc[0]"
   ]
  },
  {
   "cell_type": "code",
   "execution_count": 6,
   "id": "5b8806a1",
   "metadata": {},
   "outputs": [
    {
     "name": "stderr",
     "output_type": "stream",
     "text": [
      "100%|████████████████████████████████████| 13000/13000 [00:21<00:00, 594.81it/s]\n"
     ]
    },
    {
     "data": {
      "text/html": [
       "<div>\n",
       "<style scoped>\n",
       "    .dataframe tbody tr th:only-of-type {\n",
       "        vertical-align: middle;\n",
       "    }\n",
       "\n",
       "    .dataframe tbody tr th {\n",
       "        vertical-align: top;\n",
       "    }\n",
       "\n",
       "    .dataframe thead th {\n",
       "        text-align: right;\n",
       "    }\n",
       "</style>\n",
       "<table border=\"1\" class=\"dataframe\">\n",
       "  <thead>\n",
       "    <tr style=\"text-align: right;\">\n",
       "      <th></th>\n",
       "      <th>UL ID</th>\n",
       "      <th>UPOS:Lemma</th>\n",
       "      <th>SR Code</th>\n",
       "    </tr>\n",
       "  </thead>\n",
       "  <tbody>\n",
       "    <tr>\n",
       "      <th>0</th>\n",
       "      <td>UL00001</td>\n",
       "      <td>NOUN:engineer</td>\n",
       "      <td>ESC-4-S02, ESC-4-S01, ALP-V4-S09, ESC-4-S17, E...</td>\n",
       "    </tr>\n",
       "    <tr>\n",
       "      <th>1</th>\n",
       "      <td>UL00002</td>\n",
       "      <td>VERB:like</td>\n",
       "      <td>ESC-4-S20, MWD-2-S08, ISL-3-S04, ALP-Z5-S03, A...</td>\n",
       "    </tr>\n",
       "    <tr>\n",
       "      <th>2</th>\n",
       "      <td>UL00003</td>\n",
       "      <td>VERB:solve</td>\n",
       "      <td>ESC-4-S01, ESC-5-S07, ALP-Z5-S06, MWD-2-S04, E...</td>\n",
       "    </tr>\n",
       "    <tr>\n",
       "      <th>3</th>\n",
       "      <td>UL00004</td>\n",
       "      <td>NOUN:problem</td>\n",
       "      <td>ALP-P4-S08, ALP-Z5-S06, MWD-2-S04, ALP-V4-S02,...</td>\n",
       "    </tr>\n",
       "    <tr>\n",
       "      <th>4</th>\n",
       "      <td>UL00005</td>\n",
       "      <td>VERB:fix</td>\n",
       "      <td>ESC-4-S01, MWD-2-S10, MWD-1-S09, MWD-2-S02, MW...</td>\n",
       "    </tr>\n",
       "    <tr>\n",
       "      <th>...</th>\n",
       "      <td>...</td>\n",
       "      <td>...</td>\n",
       "      <td>...</td>\n",
       "    </tr>\n",
       "    <tr>\n",
       "      <th>12995</th>\n",
       "      <td>UL13004</td>\n",
       "      <td>NOUN:disc</td>\n",
       "      <td>MWD-2-S31</td>\n",
       "    </tr>\n",
       "    <tr>\n",
       "      <th>12996</th>\n",
       "      <td>UL13005</td>\n",
       "      <td>ADJ:founding</td>\n",
       "      <td>MWD-2-S32</td>\n",
       "    </tr>\n",
       "    <tr>\n",
       "      <th>12997</th>\n",
       "      <td>UL13006</td>\n",
       "      <td>NOUN:steamboat</td>\n",
       "      <td>MWD-2-S32</td>\n",
       "    </tr>\n",
       "    <tr>\n",
       "      <th>12998</th>\n",
       "      <td>UL13007</td>\n",
       "      <td>NOUN:women</td>\n",
       "      <td>MWD-2-S32</td>\n",
       "    </tr>\n",
       "    <tr>\n",
       "      <th>12999</th>\n",
       "      <td>UL13008</td>\n",
       "      <td>NOUN:ranching</td>\n",
       "      <td>MWD-2-S32</td>\n",
       "    </tr>\n",
       "  </tbody>\n",
       "</table>\n",
       "<p>13000 rows × 3 columns</p>\n",
       "</div>"
      ],
      "text/plain": [
       "         UL ID      UPOS:Lemma  \\\n",
       "0      UL00001   NOUN:engineer   \n",
       "1      UL00002       VERB:like   \n",
       "2      UL00003      VERB:solve   \n",
       "3      UL00004    NOUN:problem   \n",
       "4      UL00005        VERB:fix   \n",
       "...        ...             ...   \n",
       "12995  UL13004       NOUN:disc   \n",
       "12996  UL13005    ADJ:founding   \n",
       "12997  UL13006  NOUN:steamboat   \n",
       "12998  UL13007      NOUN:women   \n",
       "12999  UL13008   NOUN:ranching   \n",
       "\n",
       "                                                 SR Code  \n",
       "0      ESC-4-S02, ESC-4-S01, ALP-V4-S09, ESC-4-S17, E...  \n",
       "1      ESC-4-S20, MWD-2-S08, ISL-3-S04, ALP-Z5-S03, A...  \n",
       "2      ESC-4-S01, ESC-5-S07, ALP-Z5-S06, MWD-2-S04, E...  \n",
       "3      ALP-P4-S08, ALP-Z5-S06, MWD-2-S04, ALP-V4-S02,...  \n",
       "4      ESC-4-S01, MWD-2-S10, MWD-1-S09, MWD-2-S02, MW...  \n",
       "...                                                  ...  \n",
       "12995                                          MWD-2-S31  \n",
       "12996                                          MWD-2-S32  \n",
       "12997                                          MWD-2-S32  \n",
       "12998                                          MWD-2-S32  \n",
       "12999                                          MWD-2-S32  \n",
       "\n",
       "[13000 rows x 3 columns]"
      ]
     },
     "execution_count": 6,
     "metadata": {},
     "output_type": "execute_result"
    }
   ],
   "source": [
    "story_code=get_story_code()\n",
    "story_code"
   ]
  },
  {
   "cell_type": "code",
   "execution_count": 7,
   "id": "cab986b6",
   "metadata": {},
   "outputs": [
    {
     "data": {
      "text/plain": [
       "'ESC-4-S02, ESC-4-S01, ALP-V4-S09, ESC-4-S17, ESC-6-S17, ISL-3-S06, ANF-6-S01, ANF-6-S02, ANF-6-S08, ANF-6-S12'"
      ]
     },
     "execution_count": 7,
     "metadata": {},
     "output_type": "execute_result"
    }
   ],
   "source": [
    "story_code['SR Code'].loc[0]"
   ]
  }
 ],
 "metadata": {
  "kernelspec": {
   "display_name": "Python 3 (ipykernel)",
   "language": "python",
   "name": "python3"
  },
  "language_info": {
   "codemirror_mode": {
    "name": "ipython",
    "version": 3
   },
   "file_extension": ".py",
   "mimetype": "text/x-python",
   "name": "python",
   "nbconvert_exporter": "python",
   "pygments_lexer": "ipython3",
   "version": "3.11.4"
  }
 },
 "nbformat": 4,
 "nbformat_minor": 5
}
